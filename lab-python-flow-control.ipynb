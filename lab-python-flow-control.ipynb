{
 "cells": [
  {
   "cell_type": "markdown",
   "id": "d3bfc191-8885-42ee-b0a0-bbab867c6f9f",
   "metadata": {
    "tags": []
   },
   "source": [
    "# Lab | Flow Control"
   ]
  },
  {
   "cell_type": "markdown",
   "id": "3851fcd1-cf98-4653-9c89-e003b7ec9400",
   "metadata": {},
   "source": [
    "## Exercise: Managing Customer Orders Optimized\n",
    "\n",
    "In the last lab, you were starting an online store that sells various products. To ensure smooth operations, you developed a program that manages customer orders and inventory.\n",
    "\n",
    "You did so without using flow control. Let's go a step further and improve this code.\n",
    "\n",
    "Follow the steps below to complete the exercise:\n",
    "\n",
    "1. Look at your code from the lab data structures, and improve repeated code with loops.\n",
    "\n",
    "2. Instead of asking the user to input the name of three products that a customer wants to order, do the following:\n",
    "    \n",
    "    a. Prompt the user to enter the name of a product that a customer wants to order.\n",
    "    \n",
    "    b. Add the product name to the \"customer_orders\" set.\n",
    "    \n",
    "    c. Ask the user if they want to add another product (yes/no).\n",
    "    \n",
    "    d. Continue the loop until the user does not want to add another product.\n",
    "\n",
    "3. Instead of updating the inventory by subtracting 1 from the quantity of each product, only do it for  the products that were ordered (those in \"customer_orders\")."
   ]
  },
  {
   "cell_type": "code",
   "execution_count": null,
   "id": "49c13fbc-69de-471a-b8e4-e204707a1db8",
   "metadata": {},
   "outputs": [],
   "source": []
  },
  {
   "cell_type": "code",
   "execution_count": 69,
   "id": "d0340945-9830-49ea-9809-b75f2ef5a8dd",
   "metadata": {},
   "outputs": [
    {
     "name": "stdin",
     "output_type": "stream",
     "text": [
      "Enter the name of the product you want to order:  hat\n"
     ]
    },
    {
     "name": "stdout",
     "output_type": "stream",
     "text": [
      "hat added to your orders.\n"
     ]
    },
    {
     "name": "stdin",
     "output_type": "stream",
     "text": [
      "Do you want to add another product (yes/no)?  yes\n",
      "Enter the name of the product you want to order:  book\n"
     ]
    },
    {
     "name": "stdout",
     "output_type": "stream",
     "text": [
      "book added to your orders.\n"
     ]
    },
    {
     "name": "stdin",
     "output_type": "stream",
     "text": [
      "Do you want to add another product (yes/no)?  no\n"
     ]
    },
    {
     "name": "stdout",
     "output_type": "stream",
     "text": [
      "Customer Orders: {'book', 'hat'}\n"
     ]
    }
   ],
   "source": [
    "products = [\"t-shirt\", \"mug\", \"hat\", \"book\", \"keychain\"]\n",
    "\n",
    "# Inicializar un conjunto para almacenar los pedidos de los clientes\n",
    "customer_orders = set()\n",
    "\n",
    "# Variable para almacenar la respuesta del usuario sobre si desea continuar o no\n",
    "continue_input = \"yes\"\n",
    "\n",
    "# Bucle para permitir al usuario ingresar nombres de productos con una opción para terminar\n",
    "while continue_input == \"yes\":\n",
    "    product_name = input(\"Enter the name of the product you want to order: \")\n",
    "\n",
    "    # Verificar si el producto ingresado está en la lista de productos disponibles\n",
    "    if product_name in products:\n",
    "        customer_orders.add(product_name)  # Añadir el nombre del producto al conjunto de pedidos\n",
    "        print(f\"{product_name} added to your orders.\")\n",
    "    else:\n",
    "        print(\"Product not available. Please enter a product from the list: \", products)\n",
    "\n",
    "    # Preguntar al usuario si desea añadir otro producto\n",
    "    continue_input = input(\"Do you want to add another product (yes/no)? \").strip().lower()\n",
    "\n",
    "# Imprimir los pedidos de los clientes\n",
    "print(\"Customer Orders:\", customer_orders)"
   ]
  },
  {
   "cell_type": "code",
   "execution_count": 75,
   "id": "07f039be-7ebe-479c-a755-06df74186577",
   "metadata": {},
   "outputs": [
    {
     "name": "stdout",
     "output_type": "stream",
     "text": [
      "Updated Inventory: {'t-shirt': 15, 'mug': 20, 'hat': 18, 'book': 7, 'keychain': 25}\n"
     ]
    }
   ],
   "source": [
    "inventory = {\n",
    "    \"t-shirt\": 10,   \n",
    "    \"mug\": 20,\n",
    "    \"hat\": 15,\n",
    "    \"book\": 5,\n",
    "    \"keychain\": 25\n",
    "}\n",
    "\n",
    "customer_orders = {'t-shirt', 'book', 'hat'}  # Example set of ordered products\n",
    "\n",
    "# Simulate additional quantities ordered by customers\n",
    "additional_orders = {\n",
    "    \"t-shirt\": 5,\n",
    "    \"book\": 2,\n",
    "    \"hat\": 3\n",
    "}\n",
    "\n",
    "for product in customer_orders: # Actualizacion inventory segun customers orders\n",
    "    if product in inventory:\n",
    "        inventory[product] += additional_orders[product]  # Anadir nuevas cantidades al inventory\n",
    "    else:\n",
    "        # If product not in inventory (not likely in this setup but good practice), add it\n",
    "        inventory[product] = additional_orders[product]\n",
    "\n",
    "print(\"Updated Inventory:\", inventory)"
   ]
  },
  {
   "cell_type": "code",
   "execution_count": 77,
   "id": "ab161df8-0a7a-4dc7-a23b-0441f6244f91",
   "metadata": {},
   "outputs": [
    {
     "name": "stdout",
     "output_type": "stream",
     "text": [
      "Updated Inventory: {'t-shirt': 20, 'mug': 20, 'hat': 21, 'book': 9, 'keychain': 25}\n"
     ]
    }
   ],
   "source": [
    "for product in customer_orders:\n",
    "    if product in inventory:\n",
    "        \n",
    "        inventory[product] += additional_orders[product] Anadir cantidades al inventory\n",
    "    else:\n",
    "        # If product not in inventory (not likely in this setup but good practice), add it\n",
    "        inventory[product] = additional_orders[product]\n",
    "\n",
    "print(\"Updated Inventory:\", inventory)"
   ]
  },
  {
   "cell_type": "code",
   "execution_count": null,
   "id": "4985e3cf-5d62-46c6-b84e-6f06fdbc6bd5",
   "metadata": {},
   "outputs": [],
   "source": []
  }
 ],
 "metadata": {
  "kernelspec": {
   "display_name": "Python 3 (ipykernel)",
   "language": "python",
   "name": "python3"
  },
  "language_info": {
   "codemirror_mode": {
    "name": "ipython",
    "version": 3
   },
   "file_extension": ".py",
   "mimetype": "text/x-python",
   "name": "python",
   "nbconvert_exporter": "python",
   "pygments_lexer": "ipython3",
   "version": "3.12.7"
  }
 },
 "nbformat": 4,
 "nbformat_minor": 5
}
